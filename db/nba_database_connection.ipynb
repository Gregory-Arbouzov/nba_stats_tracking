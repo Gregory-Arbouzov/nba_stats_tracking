{
 "cells": [
  {
   "cell_type": "code",
   "execution_count": 1,
   "metadata": {},
   "outputs": [],
   "source": [
    "import psycopg2\n",
    "#from config import config\n",
    "from configparser import ConfigParser\n",
    "import pandas as pd"
   ]
  },
  {
   "cell_type": "code",
   "execution_count": null,
   "metadata": {},
   "outputs": [],
   "source": [
    "# TODO\n",
    "\n",
    "# UPDATE GAME RESULTS TABLE WITH REMAINING CSV DATA\n",
    "\n",
    "# CREATE A TEAM/G STATS TABLE\n",
    "\n",
    "# CREATE A OPPONENT/G STATS TABLE\n",
    "\n",
    "# THINK ABOUT HOW UPDATING TEAM / OPPENENT / G STATS LOOKS WHEN ADDING A SINGLE GAMES' DATA TO THE DATABASE DAILY\n",
    "    # HOW SHOULD WIN STREAKS / RECENCY BE INCORPORATED IN THE MODEL? (For example, the mavs defense after trade acquisitions)\n",
    "    # Think about how we can start using individual player data to predict team performance (this would help account for injuries, etc)\n",
    "    # Would need a player availability table with date, player, injury status (which could also be a predictor)\n",
    "    # Could use player stats against that given team / player combo to create a new predictor (separate model needed) \n",
    "    # to determine if the particular matchup is favorable, not favorable, etc\n",
    "    # far fetched idea - use sentiment analysis from twitter to determine if a particular player is expected to perform favorably\n",
    "\n",
    "\n",
    "# IDEA - CAN TRAIN THE MODEL / webscraping ON WNBA DATA"
   ]
  },
  {
   "cell_type": "code",
   "execution_count": 38,
   "metadata": {},
   "outputs": [],
   "source": [
    "game_results_23_df = pd.read_csv('game_results_2023.csv')\n",
    "game_results_23_df.rename(columns={'Unnamed: 0': 'id'}, inplace = True)\n",
    "game_results_23_df['id'] = game_results_23_df['visitor'] + game_results_23_df['home'] + game_results_23_df['dates'].apply(str)\n",
    "game_results_23_df.set_index('id', inplace = True)"
   ]
  },
  {
   "cell_type": "code",
   "execution_count": 2,
   "metadata": {},
   "outputs": [],
   "source": [
    "game_results_21_22_df = pd.read_csv('game_results_2021_2022.csv')\n",
    "game_results_21_22_df.rename(columns={'Unnamed: 0': 'id'}, inplace = True)\n",
    "game_results_21_22_df['id'] = game_results_21_22_df['visitor'] + game_results_21_22_df['home'] + game_results_21_22_df['dates'].apply(str)\n",
    "game_results_21_22_df.set_index('id', inplace = True)"
   ]
  },
  {
   "cell_type": "code",
   "execution_count": 3,
   "metadata": {},
   "outputs": [],
   "source": [
    "game_results_19_df = pd.read_csv('game_results_2019.csv')\n",
    "game_results_19_df.rename(columns={'Unnamed: 0': 'id'}, inplace = True)\n",
    "game_results_19_df['id'] = game_results_19_df['visitor'] + game_results_19_df['home'] + game_results_19_df['dates'].apply(str)\n",
    "game_results_19_df.set_index('id', inplace = True)"
   ]
  },
  {
   "cell_type": "code",
   "execution_count": 4,
   "metadata": {},
   "outputs": [],
   "source": [
    "game_results_17_18_df = pd.read_csv('game_results_2017_2018.csv')\n",
    "game_results_17_18_df.rename(columns={'Unnamed: 0': 'id'}, inplace = True)\n",
    "game_results_17_18_df['id'] = game_results_17_18_df['visitor'] + game_results_17_18_df['home'] + game_results_17_18_df['dates'].apply(str)\n",
    "game_results_17_18_df.set_index('id', inplace = True)"
   ]
  },
  {
   "cell_type": "code",
   "execution_count": 5,
   "metadata": {},
   "outputs": [],
   "source": [
    "game_results_15_16_df = pd.read_csv('game_results_2015_2016.csv')\n",
    "game_results_15_16_df.rename(columns={'Unnamed: 0': 'id'}, inplace = True)\n",
    "game_results_15_16_df['id'] = game_results_15_16_df['visitor'] + game_results_15_16_df['home'] + game_results_15_16_df['dates'].apply(str)\n",
    "game_results_15_16_df.set_index('id', inplace = True)"
   ]
  },
  {
   "cell_type": "code",
   "execution_count": 6,
   "metadata": {},
   "outputs": [],
   "source": [
    "game_results_13_14_df = pd.read_csv('game_results_2013_2014.csv')\n",
    "game_results_13_14_df.rename(columns={'Unnamed: 0': 'id'}, inplace = True)\n",
    "game_results_13_14_df['id'] = game_results_13_14_df['visitor'] + game_results_13_14_df['home'] + game_results_13_14_df['dates'].apply(str)\n",
    "game_results_13_14_df.set_index('id', inplace = True)"
   ]
  },
  {
   "cell_type": "code",
   "execution_count": 48,
   "metadata": {},
   "outputs": [
    {
     "name": "stderr",
     "output_type": "stream",
     "text": [
      "/var/folders/kc/tfm_mmns5096hfr18knr3rp40000gp/T/ipykernel_4246/3423246217.py:5: SettingWithCopyWarning: \n",
      "A value is trying to be set on a copy of a slice from a DataFrame.\n",
      "Try using .loc[row_indexer,col_indexer] = value instead\n",
      "\n",
      "See the caveats in the documentation: https://pandas.pydata.org/pandas-docs/stable/user_guide/indexing.html#returning-a-view-versus-a-copy\n",
      "  team_stats_per_game_df['id'] = team_stats_per_game_df['team'] + team_stats_per_game_df['year'].apply(str)\n",
      "/var/folders/kc/tfm_mmns5096hfr18knr3rp40000gp/T/ipykernel_4246/3423246217.py:6: SettingWithCopyWarning: \n",
      "A value is trying to be set on a copy of a slice from a DataFrame.\n",
      "Try using .loc[row_indexer,col_indexer] = value instead\n",
      "\n",
      "See the caveats in the documentation: https://pandas.pydata.org/pandas-docs/stable/user_guide/indexing.html#returning-a-view-versus-a-copy\n",
      "  opponent_stats_per_game_df['id'] = opponent_stats_per_game_df['team'] + opponent_stats_per_game_df['year'].apply(str)\n",
      "/var/folders/kc/tfm_mmns5096hfr18knr3rp40000gp/T/ipykernel_4246/3423246217.py:9: SettingWithCopyWarning: \n",
      "A value is trying to be set on a copy of a slice from a DataFrame\n",
      "\n",
      "See the caveats in the documentation: https://pandas.pydata.org/pandas-docs/stable/user_guide/indexing.html#returning-a-view-versus-a-copy\n",
      "  team_stats_per_game_df.drop_duplicates(inplace = True)\n",
      "/var/folders/kc/tfm_mmns5096hfr18knr3rp40000gp/T/ipykernel_4246/3423246217.py:10: SettingWithCopyWarning: \n",
      "A value is trying to be set on a copy of a slice from a DataFrame\n",
      "\n",
      "See the caveats in the documentation: https://pandas.pydata.org/pandas-docs/stable/user_guide/indexing.html#returning-a-view-versus-a-copy\n",
      "  opponent_stats_per_game_df.drop_duplicates(inplace = True)\n"
     ]
    }
   ],
   "source": [
    "team_stats_df = pd.read_csv('all_team_stats.csv')\n",
    "team_stats_df.rename(columns={'Unnamed: 0': 'id'}, inplace = True)\n",
    "team_stats_per_game_df = team_stats_df[team_stats_df['player'] == 'Team/G']\n",
    "opponent_stats_per_game_df = team_stats_df[team_stats_df['player'] == 'Opponent/G']\n",
    "team_stats_per_game_df['id'] = team_stats_per_game_df['team'] + team_stats_per_game_df['year'].apply(str)\n",
    "opponent_stats_per_game_df['id'] = opponent_stats_per_game_df['team'] + opponent_stats_per_game_df['year'].apply(str)\n",
    "team_stats_per_game_df.set_index('id', inplace = True)\n",
    "opponent_stats_per_game_df.set_index('id', inplace = True)\n",
    "team_stats_per_game_df.drop_duplicates(inplace = True)\n",
    "opponent_stats_per_game_df.drop_duplicates(inplace = True)"
   ]
  },
  {
   "cell_type": "code",
   "execution_count": 49,
   "metadata": {},
   "outputs": [],
   "source": [
    "tmp_team_per_game_stats_df = \"./team_per_game_stats_to_db.csv\"\n",
    "team_stats_per_game_df.to_csv(tmp_team_per_game_stats_df, index_label='id', header=False)\n",
    "f_team_per_game_stats = open(tmp_team_per_game_stats_df, 'r')"
   ]
  },
  {
   "cell_type": "code",
   "execution_count": 54,
   "metadata": {},
   "outputs": [],
   "source": [
    "tmp_opp_per_game_stats_df = \"./opp_per_game_stats_to_db.csv\"\n",
    "opponent_stats_per_game_df.to_csv(tmp_opp_per_game_stats_df, index_label='id', header=False)\n",
    "f_opp_per_game_stats = open(tmp_opp_per_game_stats_df, 'r')"
   ]
  },
  {
   "cell_type": "code",
   "execution_count": 8,
   "metadata": {},
   "outputs": [],
   "source": [
    "# 2023 results dataset\n",
    "#tmp_df = \"./game_results_2023_to_db.csv\"\n",
    "#game_results_2023_df.to_csv(tmp_df, index_label='id', header=False)\n",
    "#f = open(tmp_df, 'r')"
   ]
  },
  {
   "cell_type": "code",
   "execution_count": 10,
   "metadata": {},
   "outputs": [],
   "source": [
    "tmp_df_21_22 = \"./game_results_2021_2022_to_db.csv\"\n",
    "game_results_21_22_df.to_csv(tmp_df_21_22, index_label='id', header=False)\n",
    "f_21_22 = open(tmp_df_21_22, 'r')"
   ]
  },
  {
   "cell_type": "code",
   "execution_count": 11,
   "metadata": {},
   "outputs": [],
   "source": [
    "tmp_df_19 = \"./game_results_2019_to_db.csv\"\n",
    "game_results_19_df.to_csv(tmp_df_19, index_label='id', header=False)\n",
    "f_19 = open(tmp_df_19, 'r')"
   ]
  },
  {
   "cell_type": "code",
   "execution_count": 12,
   "metadata": {},
   "outputs": [],
   "source": [
    "tmp_df_17_18 = \"./game_results_2017_2018_to_db.csv\"\n",
    "game_results_17_18_df.to_csv(tmp_df_17_18, index_label='id', header=False)\n",
    "f_17_18 = open(tmp_df_17_18, 'r')"
   ]
  },
  {
   "cell_type": "code",
   "execution_count": 13,
   "metadata": {},
   "outputs": [],
   "source": [
    "tmp_df_15_16 = \"./game_results_2015_2016_to_db.csv\"\n",
    "game_results_15_16_df.to_csv(tmp_df_15_16, index_label='id', header=False)\n",
    "f_15_16 = open(tmp_df_15_16, 'r')"
   ]
  },
  {
   "cell_type": "code",
   "execution_count": 14,
   "metadata": {},
   "outputs": [],
   "source": [
    "tmp_df_13_14 = \"./game_results_2013_2014_to_db.csv\"\n",
    "game_results_13_14_df.to_csv(tmp_df_13_14, index_label='id', header=False)\n",
    "f_13_14 = open(tmp_df_13_14, 'r')"
   ]
  },
  {
   "cell_type": "code",
   "execution_count": 50,
   "metadata": {},
   "outputs": [],
   "source": [
    "def config(filename = 'database.ini', section = 'postgresql'):\n",
    "    parser = ConfigParser()\n",
    "    parser.read(filename)\n",
    "\n",
    "    db = {}\n",
    "\n",
    "    if parser.has_section(section):\n",
    "        params = parser.items(section)\n",
    "\n",
    "        for param in params:\n",
    "            db[param[0]] = param[1]\n",
    "\n",
    "    else:\n",
    "        raise Exception('Section{0} is not found in the {1} file'.format(section, filename))\n",
    "    \n",
    "    return(db)\n",
    "\n",
    "#config()"
   ]
  },
  {
   "cell_type": "code",
   "execution_count": 51,
   "metadata": {},
   "outputs": [
    {
     "data": {
      "text/plain": [
       "{'host': 'localhost',\n",
       " 'database': 'NBA_Data',\n",
       " 'user': 'postgres',\n",
       " 'password': 'BrendaLee223'}"
      ]
     },
     "execution_count": 51,
     "metadata": {},
     "output_type": "execute_result"
    }
   ],
   "source": [
    "config()"
   ]
  },
  {
   "cell_type": "code",
   "execution_count": 56,
   "metadata": {},
   "outputs": [
    {
     "name": "stdout",
     "output_type": "stream",
     "text": [
      "connecting to postgresql database...\n",
      "copy_from_file() done\n",
      "database connection terminated\n"
     ]
    }
   ],
   "source": [
    "def connect():\n",
    "    connection = None\n",
    "    try:\n",
    "        params = config()\n",
    "        #print(params)\n",
    "        print('connecting to postgresql database...')\n",
    "        connection = psycopg2.connect(**params)\n",
    "       \n",
    "        # create cursor\n",
    "        cursor = connection.cursor()\n",
    "        \n",
    "        # example\n",
    "        #print('postgresql database version: ')\n",
    "        #crsr.execute('SELECT version()')\n",
    "        #db_version = crsr.fetchone()\n",
    "        #print(db_version)\n",
    "        \n",
    "        # add all sql create table commands here\n",
    "        #cursor.execute(open('create_game_results_table.sql', 'r').read())\n",
    "        #cursor.execute(open('create_yearly_team_per_game_stats_table.sql', 'r').read())\n",
    "        #cursor.execute(open('create_yearly_opponent_per_game_stats_table.sql', 'r').read())\n",
    "\n",
    "        try:\n",
    "            #cursor.copy_from(f, 'game_results', sep=\",\")\n",
    "            #cursor.copy_from(f_21_22, 'game_results', sep=\",\")\n",
    "            #cursor.copy_from(f_19, 'game_results', sep=\",\")\n",
    "            #cursor.copy_from(f_17_18, 'game_results', sep=\",\")\n",
    "            #cursor.copy_from(f_15_16, 'game_results', sep=\",\")\n",
    "            #cursor.copy_from(f_13_14, 'game_results', sep=\",\")\n",
    "\n",
    "            #cursor.copy_from(f_team_per_game_stats, 'yearly_team_per_game_stats', sep=\",\")\n",
    "            #cursor.copy_from(f_opp_per_game_stats, 'yearly_opponent_per_game_stats', sep=\",\")\n",
    "            \n",
    "            connection.commit()\n",
    "            print(\"copy_from_file() done\")\n",
    "            cursor.close()\n",
    "            #os.remove(tmp_df)\n",
    "            \n",
    "        except (Exception, psycopg2.DatabaseError) as error:\n",
    "            #os.remove(tmp_df)\n",
    "            print(\"Error: %s\" % error)\n",
    "            connection.rollback()\n",
    "            cursor.close()\n",
    "            return 1\n",
    "    \n",
    "    except(Exception, psycopg2.DatabaseError) as error:\n",
    "        print(error)\n",
    "    \n",
    "    finally:\n",
    "        if connection is not None:\n",
    "            connection.close()\n",
    "            print('database connection terminated')\n",
    "\n",
    "if __name__ == '__main__':\n",
    "    connect()\n"
   ]
  },
  {
   "cell_type": "code",
   "execution_count": null,
   "metadata": {},
   "outputs": [],
   "source": []
  }
 ],
 "metadata": {
  "kernelspec": {
   "display_name": "base",
   "language": "python",
   "name": "python3"
  },
  "language_info": {
   "codemirror_mode": {
    "name": "ipython",
    "version": 3
   },
   "file_extension": ".py",
   "mimetype": "text/x-python",
   "name": "python",
   "nbconvert_exporter": "python",
   "pygments_lexer": "ipython3",
   "version": "3.11.4"
  }
 },
 "nbformat": 4,
 "nbformat_minor": 2
}
